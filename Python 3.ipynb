{
 "cells": [
  {
   "cell_type": "markdown",
   "metadata": {
    "collapsed": false
   },
   "source": [
    "I support Python programmers at The University of Sheffield. I am often asked questions about Python 3 vs Python 2. This document is an attempt to answer most of these questions in one go. It is aimed at beginners who are teetering between learning Python 3 or Python 2 and Python 2 users who are asking the question 'But Why?'\n",
    "\n",
    "Reams of stuff has been written about Python 2 vs Python 3. This is my contribution to the pile :)\n",
    "\n",
    "Author: Mike Croucher (2015). \n",
    "\n",
    "Catch [me on Twitter](https://twitter.com/walkingrandomly) if you have any comments \n",
    "\n",
    "# Python 2 is broken. Python 3 is the fix.\n",
    "\n",
    "After years of usage it became apparent that Python contained a series of design flaws and that fixing them would require changes to the language that would break pre-existing code. Many people agreed that these changes needed to be made so the outstanding question was 'When should they be made'?\n",
    "  \n",
    "The Python designers eventually decided to combine as many of these changes as possible and put them into a new version of Python which they would call Python 3. This gave a definite point where code would break -- the transition from 2.x to 3.x. \n",
    "\n",
    "# PEPS\n",
    "\n",
    "Design and evolution of the Python language is conducted openly. The primary mechanism for introducing changes is via 'Python Enhancement Proposals' (PEPs). These documents discuss the official development process of Python and are always published openly. \n",
    "\n",
    "All changes to the core language have an associated PEP. If you want to read the rationale behind a change to the Python language - read the appropriate PEP.\n",
    "\n",
    "# Reasons to learn Python 3 instead of Python 2\n",
    "\n",
    "Python 3 was released in 2008...it is already over 7 years old! If you learn Python 2, you are learning outdated skills -- you are learning a language whose designers have publicly announced to be a dying language. Python 2 is part of Python's past, Python 3 is its future.\n",
    "\n",
    "Python 2.7 is the last version of Python 2. If you want to use the latest and greatest Python features, you have to use Python 3. See PEP0404 https://www.python.org/dev/peps/pep-0404/\n",
    "\n",
    "Sooner or later, any useful code written in Python will need to run on Python 3. Thus, if you have a choice, you might as well use Python 3  from the outset.\n",
    "\n",
    "# What are the differences between Python 2 and Python 3?\n",
    "\n",
    "There are possibly hundreds of differences! Since all new Python development occurs in Python 3, this number increases over time. Here are some of the main ones that affect beginners.\n",
    "\n",
    "Here, I only describe **what** has changed. If you want to know **why** it has changed, follow the link to the appropriate PEP.\n",
    "\n",
    "### print is a function\n",
    "\n",
    "`print` used to be a statement. Now, it's a function. Details concerning why can be found in PEP3105 https://www.python.org/dev/peps/pep-3105/\n",
    "\n",
    "**`print “foo”`** will no longer work."
   ]
  },
  {
   "cell_type": "code",
   "execution_count": 10,
   "metadata": {
    "collapsed": false
   },
   "outputs": [
    {
     "ename": "SyntaxError",
     "evalue": "Missing parentheses in call to 'print' (<ipython-input-10-45585431d0ef>, line 1)",
     "output_type": "error",
     "traceback": [
      "\u001b[1;36m  File \u001b[1;32m\"<ipython-input-10-45585431d0ef>\"\u001b[1;36m, line \u001b[1;32m1\u001b[0m\n\u001b[1;33m    print \"foo\"\u001b[0m\n\u001b[1;37m              ^\u001b[0m\n\u001b[1;31mSyntaxError\u001b[0m\u001b[1;31m:\u001b[0m Missing parentheses in call to 'print'\n"
     ]
    }
   ],
   "source": [
    "print \"foo\""
   ]
  },
  {
   "cell_type": "markdown",
   "metadata": {},
   "source": [
    "You should do **`print(“foo”)`** instead:"
   ]
  },
  {
   "cell_type": "code",
   "execution_count": 11,
   "metadata": {
    "collapsed": false
   },
   "outputs": [
    {
     "name": "stdout",
     "output_type": "stream",
     "text": [
      "foo\n"
     ]
    }
   ],
   "source": [
    "print(\"foo\")"
   ]
  },
  {
   "cell_type": "markdown",
   "metadata": {},
   "source": [
    "### Integer division has changed\n",
    "\n",
    "Integer division has changed. Details concerning why can be found in PEP0238 https://www.python.org/dev/peps/pep-0238/ \n",
    "\n",
    "In Python 2, the result of dividing two integers is an integer:"
   ]
  },
  {
   "cell_type": "code",
   "execution_count": 20,
   "metadata": {
    "collapsed": false
   },
   "outputs": [
    {
     "name": "stdout",
     "output_type": "stream",
     "text": [
      "1\n"
     ]
    }
   ],
   "source": [
    "%%python2\n",
    "print(3/2)"
   ]
  },
  {
   "cell_type": "markdown",
   "metadata": {},
   "source": [
    "In Python 3, the result is a floting point number:"
   ]
  },
  {
   "cell_type": "code",
   "execution_count": 21,
   "metadata": {
    "collapsed": false
   },
   "outputs": [
    {
     "name": "stdout",
     "output_type": "stream",
     "text": [
      "1.5\n"
     ]
    }
   ],
   "source": [
    "print(3/2)"
   ]
  }
 ],
 "metadata": {
  "kernelspec": {
   "display_name": "Python 3",
   "language": "python",
   "name": "python3"
  },
  "language_info": {
   "codemirror_mode": {
    "name": "ipython",
    "version": 3
   },
   "file_extension": ".py",
   "mimetype": "text/x-python",
   "name": "python",
   "nbconvert_exporter": "python",
   "pygments_lexer": "ipython3",
   "version": "3.4.3"
  },
  "name": "Python 3.ipynb"
 },
 "nbformat": 4,
 "nbformat_minor": 0
}
